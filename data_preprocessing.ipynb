{
 "cells": [
  {
   "cell_type": "markdown",
   "id": "665eac17",
   "metadata": {},
   "source": [
    "# Project: Sentiment Analysis"
   ]
  },
  {
   "cell_type": "markdown",
   "id": "10f43dae",
   "metadata": {},
   "source": [
    "***Nguyen Thi Tuong Vy***"
   ]
  },
  {
   "cell_type": "code",
   "execution_count": 1,
   "id": "9b1e2b02",
   "metadata": {
    "scrolled": true
   },
   "outputs": [
    {
     "name": "stdout",
     "output_type": "stream",
     "text": [
      "importing Jupyter notebook from lib_nlp.ipynb\n"
     ]
    }
   ],
   "source": [
    "import pandas as pd\n",
    "import numpy as np\n",
    "from underthesea import word_tokenize, pos_tag, sent_tokenize\n",
    "import regex\n",
    "import demoji\n",
    "from pyvi import ViPosTagger, ViTokenizer\n",
    "import string\n",
    "import import_ipynb\n",
    "import lib_nlp as func"
   ]
  },
  {
   "cell_type": "markdown",
   "id": "66098b38",
   "metadata": {},
   "source": [
    "# Data Understanding"
   ]
  },
  {
   "cell_type": "code",
   "execution_count": 2,
   "id": "f7010b0a",
   "metadata": {},
   "outputs": [],
   "source": [
    "data = pd.read_csv('data/data_Foody.csv')"
   ]
  },
  {
   "cell_type": "code",
   "execution_count": 3,
   "id": "52e76d10",
   "metadata": {},
   "outputs": [
    {
     "name": "stdout",
     "output_type": "stream",
     "text": [
      "<class 'pandas.core.frame.DataFrame'>\n",
      "RangeIndex: 39925 entries, 0 to 39924\n",
      "Data columns (total 4 columns):\n",
      " #   Column        Non-Null Count  Dtype  \n",
      "---  ------        --------------  -----  \n",
      " 0   Unnamed: 0    39925 non-null  int64  \n",
      " 1   restaurant    39925 non-null  object \n",
      " 2   review_text   39925 non-null  object \n",
      " 3   review_score  39925 non-null  float64\n",
      "dtypes: float64(1), int64(1), object(2)\n",
      "memory usage: 1.2+ MB\n"
     ]
    }
   ],
   "source": [
    "data.info()"
   ]
  },
  {
   "cell_type": "code",
   "execution_count": 4,
   "id": "7ebaeab0",
   "metadata": {},
   "outputs": [
    {
     "data": {
      "text/plain": [
       "(39925, 4)"
      ]
     },
     "execution_count": 4,
     "metadata": {},
     "output_type": "execute_result"
    }
   ],
   "source": [
    "data.shape"
   ]
  },
  {
   "cell_type": "code",
   "execution_count": 5,
   "id": "65d5c278",
   "metadata": {},
   "outputs": [
    {
     "data": {
      "text/html": [
       "<div>\n",
       "<style scoped>\n",
       "    .dataframe tbody tr th:only-of-type {\n",
       "        vertical-align: middle;\n",
       "    }\n",
       "\n",
       "    .dataframe tbody tr th {\n",
       "        vertical-align: top;\n",
       "    }\n",
       "\n",
       "    .dataframe thead th {\n",
       "        text-align: right;\n",
       "    }\n",
       "</style>\n",
       "<table border=\"1\" class=\"dataframe\">\n",
       "  <thead>\n",
       "    <tr style=\"text-align: right;\">\n",
       "      <th></th>\n",
       "      <th>Unnamed: 0</th>\n",
       "      <th>restaurant</th>\n",
       "      <th>review_text</th>\n",
       "      <th>review_score</th>\n",
       "    </tr>\n",
       "  </thead>\n",
       "  <tbody>\n",
       "    <tr>\n",
       "      <th>0</th>\n",
       "      <td>0</td>\n",
       "      <td>Good Morning Restaurant</td>\n",
       "      <td>Pizza phong cách Ý. Ngán hải sản nên cả nhà gh...</td>\n",
       "      <td>8.2</td>\n",
       "    </tr>\n",
       "    <tr>\n",
       "      <th>1</th>\n",
       "      <td>1</td>\n",
       "      <td>Hạt Dẻ Trùng Khánh</td>\n",
       "      <td>- Vị trí: chỉ là 1 chiếc xe nho nhỏ nằm ở khu ...</td>\n",
       "      <td>8.0</td>\n",
       "    </tr>\n",
       "    <tr>\n",
       "      <th>2</th>\n",
       "      <td>2</td>\n",
       "      <td>Bột - Healthy &amp; Weight Loss Food - Shop Online</td>\n",
       "      <td>Nay lang thang trên BM thấy đang khuyến mãi xo...</td>\n",
       "      <td>8.2</td>\n",
       "    </tr>\n",
       "    <tr>\n",
       "      <th>3</th>\n",
       "      <td>3</td>\n",
       "      <td>Bánh Giò Chợ Nguyễn Công Trứ</td>\n",
       "      <td>Quán nằm trong chợ Nguyễn Công Trứ, cũng dễ tì...</td>\n",
       "      <td>8.2</td>\n",
       "    </tr>\n",
       "    <tr>\n",
       "      <th>4</th>\n",
       "      <td>4</td>\n",
       "      <td>Quán Quảng - Bún Quảng</td>\n",
       "      <td>Ngãi heo với heo thiệttttt 🐷🐷🐷\\n🤤🤤 bún nem chả...</td>\n",
       "      <td>9.0</td>\n",
       "    </tr>\n",
       "  </tbody>\n",
       "</table>\n",
       "</div>"
      ],
      "text/plain": [
       "   Unnamed: 0                                      restaurant  \\\n",
       "0           0                         Good Morning Restaurant   \n",
       "1           1                              Hạt Dẻ Trùng Khánh   \n",
       "2           2  Bột - Healthy & Weight Loss Food - Shop Online   \n",
       "3           3                    Bánh Giò Chợ Nguyễn Công Trứ   \n",
       "4           4                          Quán Quảng - Bún Quảng   \n",
       "\n",
       "                                         review_text  review_score  \n",
       "0  Pizza phong cách Ý. Ngán hải sản nên cả nhà gh...           8.2  \n",
       "1  - Vị trí: chỉ là 1 chiếc xe nho nhỏ nằm ở khu ...           8.0  \n",
       "2  Nay lang thang trên BM thấy đang khuyến mãi xo...           8.2  \n",
       "3  Quán nằm trong chợ Nguyễn Công Trứ, cũng dễ tì...           8.2  \n",
       "4  Ngãi heo với heo thiệttttt 🐷🐷🐷\\n🤤🤤 bún nem chả...           9.0  "
      ]
     },
     "execution_count": 5,
     "metadata": {},
     "output_type": "execute_result"
    }
   ],
   "source": [
    "data.head()"
   ]
  },
  {
   "cell_type": "markdown",
   "id": "74e2ce88",
   "metadata": {},
   "source": [
    "# Data preparation"
   ]
  },
  {
   "cell_type": "markdown",
   "id": "09ad2994",
   "metadata": {},
   "source": [
    "**Checking for duplicates if any present**"
   ]
  },
  {
   "cell_type": "code",
   "execution_count": 6,
   "id": "91803738",
   "metadata": {},
   "outputs": [
    {
     "name": "stdout",
     "output_type": "stream",
     "text": [
      "Shape before dropping duplicates (39925, 4)\n",
      "Shape after dropping duplicates (39925, 4)\n"
     ]
    }
   ],
   "source": [
    "print('Shape before dropping duplicates', data.shape)\n",
    "data = data.drop_duplicates()\n",
    "print('Shape after dropping duplicates', data.shape)"
   ]
  },
  {
   "cell_type": "markdown",
   "id": "7300d1a1",
   "metadata": {},
   "source": [
    "Nhận xét: Không có dữ liệu trùng"
   ]
  },
  {
   "cell_type": "markdown",
   "id": "2f28de57",
   "metadata": {},
   "source": [
    "**Checking Nulls/NaN**"
   ]
  },
  {
   "cell_type": "code",
   "execution_count": 7,
   "id": "3bf62986",
   "metadata": {},
   "outputs": [
    {
     "name": "stdout",
     "output_type": "stream",
     "text": [
      "Unnamed: 0      0\n",
      "restaurant      0\n",
      "review_text     0\n",
      "review_score    0\n",
      "dtype: int64 \n",
      "\n",
      "Unnamed: 0      0\n",
      "restaurant      0\n",
      "review_text     0\n",
      "review_score    0\n",
      "dtype: int64 \n",
      "\n"
     ]
    }
   ],
   "source": [
    "print(np.sum(data.isnull()), '\\n')\n",
    "print(np.sum(data.isna()), '\\n')"
   ]
  },
  {
   "cell_type": "markdown",
   "id": "a8a15bc2",
   "metadata": {},
   "source": [
    "Nhận xét: Không có dữ liệu Nulls, NaN"
   ]
  },
  {
   "cell_type": "markdown",
   "id": "281d2c5d",
   "metadata": {},
   "source": [
    "**Processing review_text**"
   ]
  },
  {
   "cell_type": "code",
   "execution_count": 8,
   "id": "51115ffa",
   "metadata": {},
   "outputs": [
    {
     "data": {
      "text/html": [
       "<div>\n",
       "<style scoped>\n",
       "    .dataframe tbody tr th:only-of-type {\n",
       "        vertical-align: middle;\n",
       "    }\n",
       "\n",
       "    .dataframe tbody tr th {\n",
       "        vertical-align: top;\n",
       "    }\n",
       "\n",
       "    .dataframe thead th {\n",
       "        text-align: right;\n",
       "    }\n",
       "</style>\n",
       "<table border=\"1\" class=\"dataframe\">\n",
       "  <thead>\n",
       "    <tr style=\"text-align: right;\">\n",
       "      <th></th>\n",
       "      <th>Unnamed: 0</th>\n",
       "      <th>restaurant</th>\n",
       "      <th>review_text</th>\n",
       "      <th>review_score</th>\n",
       "      <th>review_text_clean</th>\n",
       "    </tr>\n",
       "  </thead>\n",
       "  <tbody>\n",
       "    <tr>\n",
       "      <th>0</th>\n",
       "      <td>0</td>\n",
       "      <td>Good Morning Restaurant</td>\n",
       "      <td>Pizza phong cách Ý. Ngán hải sản nên cả nhà gh...</td>\n",
       "      <td>8.2</td>\n",
       "      <td>hải_sản ghé rẻ đẹp</td>\n",
       "    </tr>\n",
       "    <tr>\n",
       "      <th>1</th>\n",
       "      <td>1</td>\n",
       "      <td>Hạt Dẻ Trùng Khánh</td>\n",
       "      <td>- Vị trí: chỉ là 1 chiếc xe nho nhỏ nằm ở khu ...</td>\n",
       "      <td>8.0</td>\n",
       "      <td>đông đối_diện thích hạt_dẻ hẳn chuyên_nghiệp l...</td>\n",
       "    </tr>\n",
       "    <tr>\n",
       "      <th>2</th>\n",
       "      <td>2</td>\n",
       "      <td>Bột - Healthy &amp; Weight Loss Food - Shop Online</td>\n",
       "      <td>Nay lang thang trên BM thấy đang khuyến mãi xo...</td>\n",
       "      <td>8.2</td>\n",
       "      <td>khuyến_mãi đọc thử đồ_ăn đa_số hơi khô thử</td>\n",
       "    </tr>\n",
       "  </tbody>\n",
       "</table>\n",
       "</div>"
      ],
      "text/plain": [
       "   Unnamed: 0                                      restaurant  \\\n",
       "0           0                         Good Morning Restaurant   \n",
       "1           1                              Hạt Dẻ Trùng Khánh   \n",
       "2           2  Bột - Healthy & Weight Loss Food - Shop Online   \n",
       "\n",
       "                                         review_text  review_score  \\\n",
       "0  Pizza phong cách Ý. Ngán hải sản nên cả nhà gh...           8.2   \n",
       "1  - Vị trí: chỉ là 1 chiếc xe nho nhỏ nằm ở khu ...           8.0   \n",
       "2  Nay lang thang trên BM thấy đang khuyến mãi xo...           8.2   \n",
       "\n",
       "                                   review_text_clean  \n",
       "0                                 hải_sản ghé rẻ đẹp  \n",
       "1  đông đối_diện thích hạt_dẻ hẳn chuyên_nghiệp l...  \n",
       "2         khuyến_mãi đọc thử đồ_ăn đa_số hơi khô thử  "
      ]
     },
     "execution_count": 8,
     "metadata": {},
     "output_type": "execute_result"
    }
   ],
   "source": [
    "data['review_text_clean'] = data.review_text.apply(lambda x: func.clean_text_thesea(str(x), func.emoji_dict, func.teen_dict, func.wrong_lst, func.stopwords_lst))\n",
    "\n",
    "data.head(3)"
   ]
  },
  {
   "cell_type": "code",
   "execution_count": 9,
   "id": "22846889",
   "metadata": {},
   "outputs": [],
   "source": [
    "data_new = data[data.review_text_clean != ' ']\n",
    "data_new = data[data.review_text_clean != '']"
   ]
  },
  {
   "cell_type": "code",
   "execution_count": 10,
   "id": "3905cdcb",
   "metadata": {},
   "outputs": [
    {
     "data": {
      "text/plain": [
       "(38679, 5)"
      ]
     },
     "execution_count": 10,
     "metadata": {},
     "output_type": "execute_result"
    }
   ],
   "source": [
    "data_new.shape"
   ]
  },
  {
   "cell_type": "code",
   "execution_count": 11,
   "id": "5d4f88e0",
   "metadata": {},
   "outputs": [],
   "source": [
    "data_new[['restaurant', 'review_text', 'review_score', 'review_text_clean']].to_csv('data/clean_data_Foody.csv')"
   ]
  },
  {
   "cell_type": "code",
   "execution_count": null,
   "id": "80f0105a",
   "metadata": {},
   "outputs": [],
   "source": []
  }
 ],
 "metadata": {
  "kernelspec": {
   "display_name": "Python 3",
   "language": "python",
   "name": "python3"
  },
  "language_info": {
   "codemirror_mode": {
    "name": "ipython",
    "version": 3
   },
   "file_extension": ".py",
   "mimetype": "text/x-python",
   "name": "python",
   "nbconvert_exporter": "python",
   "pygments_lexer": "ipython3",
   "version": "3.6.8"
  }
 },
 "nbformat": 4,
 "nbformat_minor": 5
}
