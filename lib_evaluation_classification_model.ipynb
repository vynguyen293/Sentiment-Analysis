{
 "cells": [
  {
   "cell_type": "code",
   "execution_count": 1,
   "id": "6ca74e32",
   "metadata": {},
   "outputs": [],
   "source": [
    "import numpy as np\n",
    "import pandas as pd\n",
    "import matplotlib.pyplot as plt\n",
    "import seaborn as sns\n",
    "sns.set_style(\"white\")\n",
    "\n",
    "import warnings\n",
    "warnings.filterwarnings('ignore')"
   ]
  },
  {
   "cell_type": "code",
   "execution_count": 2,
   "id": "ebb8ce6a",
   "metadata": {},
   "outputs": [],
   "source": [
    "from sklearn.metrics import classification_report,confusion_matrix\n",
    "from sklearn.metrics import precision_score, recall_score, f1_score\n",
    "from sklearn.metrics import accuracy_score\n",
    "\n",
    "def Static_score_model_class(y,y_pred,aver=None):\n",
    "    accuracy = accuracy_score(y,y_pred)\n",
    "    precision = precision_score(y,y_pred,average=aver)\n",
    "    recall = recall_score(y,y_pred,average=aver)\n",
    "    f1 = f1_score(y,y_pred,average=aver)\n",
    "    return accuracy, recall, precision, f1"
   ]
  },
  {
   "cell_type": "markdown",
   "id": "454e1589",
   "metadata": {},
   "source": [
    "## Confusion Matrix"
   ]
  },
  {
   "cell_type": "code",
   "execution_count": 3,
   "id": "08474180",
   "metadata": {},
   "outputs": [],
   "source": [
    "def Visualize_confusion_matrix(y,y_pred):\n",
    "    cm = confusion_matrix(y, y_pred)\n",
    "    cm_df = pd.DataFrame(cm)\n",
    "    plt.figure(figsize=(6,5))\n",
    "    sns.heatmap(cm_df, annot=True,fmt='g',cmap='Blues')\n",
    "    plt.title('Accuracy:{0:.3f}'.format(accuracy_score(y,y_pred)))\n",
    "    plt.ylabel('True Values')\n",
    "    plt.xlabel('Predicted Values')\n",
    "    plt.show()\n",
    "    return"
   ]
  },
  {
   "cell_type": "code",
   "execution_count": 4,
   "id": "b47c6684",
   "metadata": {},
   "outputs": [],
   "source": [
    "def Visualize_data(X1,X2,y,title):\n",
    "    plt.figure(figsize=(6,5))\n",
    "    sns.scatterplot(X1 , X2,hue=y,cmap='Sequential')\n",
    "    plt.title(title)\n",
    "    plt.show()\n",
    "    return"
   ]
  },
  {
   "cell_type": "markdown",
   "id": "29e8ac13",
   "metadata": {},
   "source": [
    "## ROC Curve"
   ]
  },
  {
   "cell_type": "code",
   "execution_count": 5,
   "id": "8e3035e2",
   "metadata": {},
   "outputs": [],
   "source": [
    "from sklearn.metrics import roc_curve\n",
    "from sklearn.metrics import roc_auc_score\n",
    "def ROC_AUC(y,y_prob):\n",
    "    # calculate roc curves\n",
    "    fpr, tpr, threshold = roc_curve(y, y_prob)\n",
    "    # calculate scores\n",
    "    model_auc = roc_auc_score(y, y_prob)\n",
    "    # plot the roc curve for the model\n",
    "    plt.plot([0,1], [0,1], linestyle='--', label='No Skill' )\n",
    "    plt.plot(fpr, tpr, marker='.', label='Model - AUC=%.3f' %  (model_auc))\n",
    "    # show axis labels and the legend\n",
    "    plt.xlabel('False Positive Rate')\n",
    "    plt.ylabel('True Positive Rate')\n",
    "    plt.legend()\n",
    "    plt.show(block=False)\n",
    "    return"
   ]
  },
  {
   "cell_type": "code",
   "execution_count": 6,
   "id": "4778bc4b",
   "metadata": {},
   "outputs": [],
   "source": [
    "from sklearn.metrics import precision_recall_curve\n",
    "from sklearn.metrics import auc\n",
    "def Precision_Recall_AUC(y,y_prob):\n",
    "    # calculate roc curves\n",
    "    precision, recall, threshold = precision_recall_curve(y, y_prob)\n",
    "    # calculate scores\n",
    "    model_auc = auc(recall, precision)\n",
    "    # plot the roc curve for the model\n",
    "    ns = len(y[y==1])/len(y)\n",
    "    plt.plot([0,1], [ns,ns], linestyle='--', label='No Skill')\n",
    "    plt.plot(recall, precision, marker='.', label='Model - AUC=%.3f' %  (model_auc))\n",
    "    # show axis labels and the legend\n",
    "    plt.xlabel('Recall')\n",
    "    plt.ylabel('Precision')\n",
    "    plt.legend()\n",
    "    plt.show\n",
    "    return"
   ]
  },
  {
   "cell_type": "markdown",
   "id": "fa36f2d9",
   "metadata": {},
   "source": [
    "## Threshold"
   ]
  },
  {
   "cell_type": "code",
   "execution_count": 7,
   "id": "25ac25bb",
   "metadata": {},
   "outputs": [],
   "source": [
    "def Threshold_PrecisionRecall(y,y_prob):\n",
    "    # calculate roc curves\n",
    "    precision, recall, threshold = precision_recall_curve(y, y_prob)\n",
    "    scores= (2 * precision * recall)/(precision + recall) \n",
    "    pos= np.argmax(scores)\n",
    "    return threshold[pos],scores[pos]"
   ]
  },
  {
   "cell_type": "code",
   "execution_count": 8,
   "id": "cc51eda6",
   "metadata": {},
   "outputs": [],
   "source": [
    "def Threshold_ROC(y,y_prob):\n",
    "    # calculate roc curves\n",
    "    fpr, tpr, threshold = roc_curve(y, y_prob)\n",
    "    scores=tpr-fpr\n",
    "    pos= np.argmax(scores)\n",
    "    return threshold[pos],scores[pos]"
   ]
  },
  {
   "cell_type": "code",
   "execution_count": null,
   "id": "2a35d1fc",
   "metadata": {},
   "outputs": [],
   "source": []
  }
 ],
 "metadata": {
  "kernelspec": {
   "display_name": "Python 3",
   "language": "python",
   "name": "python3"
  },
  "language_info": {
   "codemirror_mode": {
    "name": "ipython",
    "version": 3
   },
   "file_extension": ".py",
   "mimetype": "text/x-python",
   "name": "python",
   "nbconvert_exporter": "python",
   "pygments_lexer": "ipython3",
   "version": "3.6.8"
  }
 },
 "nbformat": 4,
 "nbformat_minor": 5
}
